{
  "nbformat": 4,
  "nbformat_minor": 0,
  "metadata": {
    "colab": {
      "provenance": []
    },
    "kernelspec": {
      "name": "python3",
      "display_name": "Python 3"
    },
    "language_info": {
      "name": "python"
    }
  },
  "cells": [
    {
      "cell_type": "code",
      "source": [
        "!pip install yfinance numpy"
      ],
      "metadata": {
        "colab": {
          "base_uri": "https://localhost:8080/"
        },
        "id": "_ljweYCerhj9",
        "outputId": "d60084f8-f473-4d3c-bcdf-b57285cf98ef"
      },
      "execution_count": 55,
      "outputs": [
        {
          "output_type": "stream",
          "name": "stdout",
          "text": [
            "Requirement already satisfied: yfinance in /usr/local/lib/python3.10/dist-packages (0.2.38)\n",
            "Requirement already satisfied: numpy in /usr/local/lib/python3.10/dist-packages (1.25.2)\n",
            "Requirement already satisfied: pandas>=1.3.0 in /usr/local/lib/python3.10/dist-packages (from yfinance) (2.0.3)\n",
            "Requirement already satisfied: requests>=2.31 in /usr/local/lib/python3.10/dist-packages (from yfinance) (2.31.0)\n",
            "Requirement already satisfied: multitasking>=0.0.7 in /usr/local/lib/python3.10/dist-packages (from yfinance) (0.0.11)\n",
            "Requirement already satisfied: lxml>=4.9.1 in /usr/local/lib/python3.10/dist-packages (from yfinance) (4.9.4)\n",
            "Requirement already satisfied: appdirs>=1.4.4 in /usr/local/lib/python3.10/dist-packages (from yfinance) (1.4.4)\n",
            "Requirement already satisfied: pytz>=2022.5 in /usr/local/lib/python3.10/dist-packages (from yfinance) (2023.4)\n",
            "Requirement already satisfied: frozendict>=2.3.4 in /usr/local/lib/python3.10/dist-packages (from yfinance) (2.4.2)\n",
            "Requirement already satisfied: peewee>=3.16.2 in /usr/local/lib/python3.10/dist-packages (from yfinance) (3.17.3)\n",
            "Requirement already satisfied: beautifulsoup4>=4.11.1 in /usr/local/lib/python3.10/dist-packages (from yfinance) (4.12.3)\n",
            "Requirement already satisfied: html5lib>=1.1 in /usr/local/lib/python3.10/dist-packages (from yfinance) (1.1)\n",
            "Requirement already satisfied: soupsieve>1.2 in /usr/local/lib/python3.10/dist-packages (from beautifulsoup4>=4.11.1->yfinance) (2.5)\n",
            "Requirement already satisfied: six>=1.9 in /usr/local/lib/python3.10/dist-packages (from html5lib>=1.1->yfinance) (1.16.0)\n",
            "Requirement already satisfied: webencodings in /usr/local/lib/python3.10/dist-packages (from html5lib>=1.1->yfinance) (0.5.1)\n",
            "Requirement already satisfied: python-dateutil>=2.8.2 in /usr/local/lib/python3.10/dist-packages (from pandas>=1.3.0->yfinance) (2.8.2)\n",
            "Requirement already satisfied: tzdata>=2022.1 in /usr/local/lib/python3.10/dist-packages (from pandas>=1.3.0->yfinance) (2024.1)\n",
            "Requirement already satisfied: charset-normalizer<4,>=2 in /usr/local/lib/python3.10/dist-packages (from requests>=2.31->yfinance) (3.3.2)\n",
            "Requirement already satisfied: idna<4,>=2.5 in /usr/local/lib/python3.10/dist-packages (from requests>=2.31->yfinance) (3.7)\n",
            "Requirement already satisfied: urllib3<3,>=1.21.1 in /usr/local/lib/python3.10/dist-packages (from requests>=2.31->yfinance) (2.0.7)\n",
            "Requirement already satisfied: certifi>=2017.4.17 in /usr/local/lib/python3.10/dist-packages (from requests>=2.31->yfinance) (2024.2.2)\n"
          ]
        }
      ]
    },
    {
      "cell_type": "code",
      "source": [
        "import yfinance as yf\n",
        "import numpy as np\n",
        "import pandas as pd\n",
        "from scipy.stats import norm"
      ],
      "metadata": {
        "id": "1JAXx2v6rncq"
      },
      "execution_count": 56,
      "outputs": []
    },
    {
      "cell_type": "markdown",
      "source": [
        "# Section 1"
      ],
      "metadata": {
        "id": "vYIkJENbnFlT"
      }
    },
    {
      "cell_type": "markdown",
      "source": [
        "## Q1"
      ],
      "metadata": {
        "id": "rZxP1ckPXa95"
      }
    },
    {
      "cell_type": "code",
      "source": [
        "np.random.seed(0)\n",
        "\n",
        "X = np.random.normal(0, 1, 5000)\n",
        "Y = np.random.normal(0, 1, 5000)\n",
        "\n",
        "rho = 0.5\n",
        "\n",
        "U = X\n",
        "V = rho * X + np.sqrt(1 - rho**2) * Y\n",
        "\n",
        "# Calculate Correlation\n",
        "correlation_matrix = np.corrcoef(U, V)\n",
        "print(\"Correlation between U and V:\", correlation_matrix[0, 1])"
      ],
      "metadata": {
        "colab": {
          "base_uri": "https://localhost:8080/"
        },
        "id": "C9ypTYiAXd-3",
        "outputId": "6dc27fd6-057b-4bb5-e05b-2861a261c1b9"
      },
      "execution_count": 65,
      "outputs": [
        {
          "output_type": "stream",
          "name": "stdout",
          "text": [
            "Correlation between U and V: 0.49929725923990254\n"
          ]
        }
      ]
    },
    {
      "cell_type": "markdown",
      "source": [
        "## Q2"
      ],
      "metadata": {
        "id": "jSfFp7caXmP1"
      }
    },
    {
      "cell_type": "code",
      "source": [
        "sp500_ticker = '^GSPC'  # S&P 500 index\n",
        "usdcad_ticker = 'CAD=X'  # USD/CAD FX rate\n",
        "start_date = '2019-12-31'\n",
        "end_date = '2023-12-31'\n",
        "\n",
        "sp500_data = yf.download(sp500_ticker, start=start_date, end=end_date)\n",
        "usdcad_data = yf.download(usdcad_ticker, start=start_date, end=end_date)\n",
        "\n",
        "sp500_close = sp500_data['Close']\n",
        "sp500_close= sp500_data['Close'].pct_change().dropna()\n",
        "usdcad_close = usdcad_data['Close']"
      ],
      "metadata": {
        "colab": {
          "base_uri": "https://localhost:8080/"
        },
        "id": "0Q3RSKqPXoba",
        "outputId": "ca2796b7-4fe2-4f7c-de67-b1ccec9b7659"
      },
      "execution_count": 67,
      "outputs": [
        {
          "output_type": "stream",
          "name": "stderr",
          "text": [
            "[*********************100%%**********************]  1 of 1 completed\n",
            "[*********************100%%**********************]  1 of 1 completed\n"
          ]
        }
      ]
    },
    {
      "cell_type": "code",
      "source": [
        "merged_df = pd.merge(sp500_close, usdcad_close, on='Date', how='inner')\n",
        "merged_df = merged_df.rename(columns={'Close_x': 'SP500_close', 'Close_y': 'usdcad_close'})\n",
        "merged_df.head()"
      ],
      "metadata": {
        "colab": {
          "base_uri": "https://localhost:8080/",
          "height": 238
        },
        "id": "2qQMF954XjHV",
        "outputId": "5ad9df04-2bfa-4145-f7cb-c4b43f262eb5"
      },
      "execution_count": 68,
      "outputs": [
        {
          "output_type": "execute_result",
          "data": {
            "text/plain": [
              "            SP500_close  usdcad_close\n",
              "Date                                 \n",
              "2020-01-02     0.008379       1.29730\n",
              "2020-01-03    -0.007060       1.29830\n",
              "2020-01-06     0.003533       1.29866\n",
              "2020-01-07    -0.002803       1.29639\n",
              "2020-01-08     0.004902       1.30031"
            ],
            "text/html": [
              "\n",
              "  <div id=\"df-c0168797-5616-43ea-ab5a-e7c217153769\" class=\"colab-df-container\">\n",
              "    <div>\n",
              "<style scoped>\n",
              "    .dataframe tbody tr th:only-of-type {\n",
              "        vertical-align: middle;\n",
              "    }\n",
              "\n",
              "    .dataframe tbody tr th {\n",
              "        vertical-align: top;\n",
              "    }\n",
              "\n",
              "    .dataframe thead th {\n",
              "        text-align: right;\n",
              "    }\n",
              "</style>\n",
              "<table border=\"1\" class=\"dataframe\">\n",
              "  <thead>\n",
              "    <tr style=\"text-align: right;\">\n",
              "      <th></th>\n",
              "      <th>SP500_close</th>\n",
              "      <th>usdcad_close</th>\n",
              "    </tr>\n",
              "    <tr>\n",
              "      <th>Date</th>\n",
              "      <th></th>\n",
              "      <th></th>\n",
              "    </tr>\n",
              "  </thead>\n",
              "  <tbody>\n",
              "    <tr>\n",
              "      <th>2020-01-02</th>\n",
              "      <td>0.008379</td>\n",
              "      <td>1.29730</td>\n",
              "    </tr>\n",
              "    <tr>\n",
              "      <th>2020-01-03</th>\n",
              "      <td>-0.007060</td>\n",
              "      <td>1.29830</td>\n",
              "    </tr>\n",
              "    <tr>\n",
              "      <th>2020-01-06</th>\n",
              "      <td>0.003533</td>\n",
              "      <td>1.29866</td>\n",
              "    </tr>\n",
              "    <tr>\n",
              "      <th>2020-01-07</th>\n",
              "      <td>-0.002803</td>\n",
              "      <td>1.29639</td>\n",
              "    </tr>\n",
              "    <tr>\n",
              "      <th>2020-01-08</th>\n",
              "      <td>0.004902</td>\n",
              "      <td>1.30031</td>\n",
              "    </tr>\n",
              "  </tbody>\n",
              "</table>\n",
              "</div>\n",
              "    <div class=\"colab-df-buttons\">\n",
              "\n",
              "  <div class=\"colab-df-container\">\n",
              "    <button class=\"colab-df-convert\" onclick=\"convertToInteractive('df-c0168797-5616-43ea-ab5a-e7c217153769')\"\n",
              "            title=\"Convert this dataframe to an interactive table.\"\n",
              "            style=\"display:none;\">\n",
              "\n",
              "  <svg xmlns=\"http://www.w3.org/2000/svg\" height=\"24px\" viewBox=\"0 -960 960 960\">\n",
              "    <path d=\"M120-120v-720h720v720H120Zm60-500h600v-160H180v160Zm220 220h160v-160H400v160Zm0 220h160v-160H400v160ZM180-400h160v-160H180v160Zm440 0h160v-160H620v160ZM180-180h160v-160H180v160Zm440 0h160v-160H620v160Z\"/>\n",
              "  </svg>\n",
              "    </button>\n",
              "\n",
              "  <style>\n",
              "    .colab-df-container {\n",
              "      display:flex;\n",
              "      gap: 12px;\n",
              "    }\n",
              "\n",
              "    .colab-df-convert {\n",
              "      background-color: #E8F0FE;\n",
              "      border: none;\n",
              "      border-radius: 50%;\n",
              "      cursor: pointer;\n",
              "      display: none;\n",
              "      fill: #1967D2;\n",
              "      height: 32px;\n",
              "      padding: 0 0 0 0;\n",
              "      width: 32px;\n",
              "    }\n",
              "\n",
              "    .colab-df-convert:hover {\n",
              "      background-color: #E2EBFA;\n",
              "      box-shadow: 0px 1px 2px rgba(60, 64, 67, 0.3), 0px 1px 3px 1px rgba(60, 64, 67, 0.15);\n",
              "      fill: #174EA6;\n",
              "    }\n",
              "\n",
              "    .colab-df-buttons div {\n",
              "      margin-bottom: 4px;\n",
              "    }\n",
              "\n",
              "    [theme=dark] .colab-df-convert {\n",
              "      background-color: #3B4455;\n",
              "      fill: #D2E3FC;\n",
              "    }\n",
              "\n",
              "    [theme=dark] .colab-df-convert:hover {\n",
              "      background-color: #434B5C;\n",
              "      box-shadow: 0px 1px 3px 1px rgba(0, 0, 0, 0.15);\n",
              "      filter: drop-shadow(0px 1px 2px rgba(0, 0, 0, 0.3));\n",
              "      fill: #FFFFFF;\n",
              "    }\n",
              "  </style>\n",
              "\n",
              "    <script>\n",
              "      const buttonEl =\n",
              "        document.querySelector('#df-c0168797-5616-43ea-ab5a-e7c217153769 button.colab-df-convert');\n",
              "      buttonEl.style.display =\n",
              "        google.colab.kernel.accessAllowed ? 'block' : 'none';\n",
              "\n",
              "      async function convertToInteractive(key) {\n",
              "        const element = document.querySelector('#df-c0168797-5616-43ea-ab5a-e7c217153769');\n",
              "        const dataTable =\n",
              "          await google.colab.kernel.invokeFunction('convertToInteractive',\n",
              "                                                    [key], {});\n",
              "        if (!dataTable) return;\n",
              "\n",
              "        const docLinkHtml = 'Like what you see? Visit the ' +\n",
              "          '<a target=\"_blank\" href=https://colab.research.google.com/notebooks/data_table.ipynb>data table notebook</a>'\n",
              "          + ' to learn more about interactive tables.';\n",
              "        element.innerHTML = '';\n",
              "        dataTable['output_type'] = 'display_data';\n",
              "        await google.colab.output.renderOutput(dataTable, element);\n",
              "        const docLink = document.createElement('div');\n",
              "        docLink.innerHTML = docLinkHtml;\n",
              "        element.appendChild(docLink);\n",
              "      }\n",
              "    </script>\n",
              "  </div>\n",
              "\n",
              "\n",
              "<div id=\"df-cc236297-42e2-4ffd-8e67-892e03f4bfde\">\n",
              "  <button class=\"colab-df-quickchart\" onclick=\"quickchart('df-cc236297-42e2-4ffd-8e67-892e03f4bfde')\"\n",
              "            title=\"Suggest charts\"\n",
              "            style=\"display:none;\">\n",
              "\n",
              "<svg xmlns=\"http://www.w3.org/2000/svg\" height=\"24px\"viewBox=\"0 0 24 24\"\n",
              "     width=\"24px\">\n",
              "    <g>\n",
              "        <path d=\"M19 3H5c-1.1 0-2 .9-2 2v14c0 1.1.9 2 2 2h14c1.1 0 2-.9 2-2V5c0-1.1-.9-2-2-2zM9 17H7v-7h2v7zm4 0h-2V7h2v10zm4 0h-2v-4h2v4z\"/>\n",
              "    </g>\n",
              "</svg>\n",
              "  </button>\n",
              "\n",
              "<style>\n",
              "  .colab-df-quickchart {\n",
              "      --bg-color: #E8F0FE;\n",
              "      --fill-color: #1967D2;\n",
              "      --hover-bg-color: #E2EBFA;\n",
              "      --hover-fill-color: #174EA6;\n",
              "      --disabled-fill-color: #AAA;\n",
              "      --disabled-bg-color: #DDD;\n",
              "  }\n",
              "\n",
              "  [theme=dark] .colab-df-quickchart {\n",
              "      --bg-color: #3B4455;\n",
              "      --fill-color: #D2E3FC;\n",
              "      --hover-bg-color: #434B5C;\n",
              "      --hover-fill-color: #FFFFFF;\n",
              "      --disabled-bg-color: #3B4455;\n",
              "      --disabled-fill-color: #666;\n",
              "  }\n",
              "\n",
              "  .colab-df-quickchart {\n",
              "    background-color: var(--bg-color);\n",
              "    border: none;\n",
              "    border-radius: 50%;\n",
              "    cursor: pointer;\n",
              "    display: none;\n",
              "    fill: var(--fill-color);\n",
              "    height: 32px;\n",
              "    padding: 0;\n",
              "    width: 32px;\n",
              "  }\n",
              "\n",
              "  .colab-df-quickchart:hover {\n",
              "    background-color: var(--hover-bg-color);\n",
              "    box-shadow: 0 1px 2px rgba(60, 64, 67, 0.3), 0 1px 3px 1px rgba(60, 64, 67, 0.15);\n",
              "    fill: var(--button-hover-fill-color);\n",
              "  }\n",
              "\n",
              "  .colab-df-quickchart-complete:disabled,\n",
              "  .colab-df-quickchart-complete:disabled:hover {\n",
              "    background-color: var(--disabled-bg-color);\n",
              "    fill: var(--disabled-fill-color);\n",
              "    box-shadow: none;\n",
              "  }\n",
              "\n",
              "  .colab-df-spinner {\n",
              "    border: 2px solid var(--fill-color);\n",
              "    border-color: transparent;\n",
              "    border-bottom-color: var(--fill-color);\n",
              "    animation:\n",
              "      spin 1s steps(1) infinite;\n",
              "  }\n",
              "\n",
              "  @keyframes spin {\n",
              "    0% {\n",
              "      border-color: transparent;\n",
              "      border-bottom-color: var(--fill-color);\n",
              "      border-left-color: var(--fill-color);\n",
              "    }\n",
              "    20% {\n",
              "      border-color: transparent;\n",
              "      border-left-color: var(--fill-color);\n",
              "      border-top-color: var(--fill-color);\n",
              "    }\n",
              "    30% {\n",
              "      border-color: transparent;\n",
              "      border-left-color: var(--fill-color);\n",
              "      border-top-color: var(--fill-color);\n",
              "      border-right-color: var(--fill-color);\n",
              "    }\n",
              "    40% {\n",
              "      border-color: transparent;\n",
              "      border-right-color: var(--fill-color);\n",
              "      border-top-color: var(--fill-color);\n",
              "    }\n",
              "    60% {\n",
              "      border-color: transparent;\n",
              "      border-right-color: var(--fill-color);\n",
              "    }\n",
              "    80% {\n",
              "      border-color: transparent;\n",
              "      border-right-color: var(--fill-color);\n",
              "      border-bottom-color: var(--fill-color);\n",
              "    }\n",
              "    90% {\n",
              "      border-color: transparent;\n",
              "      border-bottom-color: var(--fill-color);\n",
              "    }\n",
              "  }\n",
              "</style>\n",
              "\n",
              "  <script>\n",
              "    async function quickchart(key) {\n",
              "      const quickchartButtonEl =\n",
              "        document.querySelector('#' + key + ' button');\n",
              "      quickchartButtonEl.disabled = true;  // To prevent multiple clicks.\n",
              "      quickchartButtonEl.classList.add('colab-df-spinner');\n",
              "      try {\n",
              "        const charts = await google.colab.kernel.invokeFunction(\n",
              "            'suggestCharts', [key], {});\n",
              "      } catch (error) {\n",
              "        console.error('Error during call to suggestCharts:', error);\n",
              "      }\n",
              "      quickchartButtonEl.classList.remove('colab-df-spinner');\n",
              "      quickchartButtonEl.classList.add('colab-df-quickchart-complete');\n",
              "    }\n",
              "    (() => {\n",
              "      let quickchartButtonEl =\n",
              "        document.querySelector('#df-cc236297-42e2-4ffd-8e67-892e03f4bfde button');\n",
              "      quickchartButtonEl.style.display =\n",
              "        google.colab.kernel.accessAllowed ? 'block' : 'none';\n",
              "    })();\n",
              "  </script>\n",
              "</div>\n",
              "\n",
              "    </div>\n",
              "  </div>\n"
            ],
            "application/vnd.google.colaboratory.intrinsic+json": {
              "type": "dataframe",
              "variable_name": "merged_df",
              "summary": "{\n  \"name\": \"merged_df\",\n  \"rows\": 1006,\n  \"fields\": [\n    {\n      \"column\": \"Date\",\n      \"properties\": {\n        \"dtype\": \"date\",\n        \"min\": \"2020-01-02 00:00:00\",\n        \"max\": \"2023-12-29 00:00:00\",\n        \"num_unique_values\": 1006,\n        \"samples\": [\n          \"2023-09-08 00:00:00\",\n          \"2022-07-05 00:00:00\",\n          \"2022-09-16 00:00:00\"\n        ],\n        \"semantic_type\": \"\",\n        \"description\": \"\"\n      }\n    },\n    {\n      \"column\": \"SP500_close\",\n      \"properties\": {\n        \"dtype\": \"number\",\n        \"std\": 0.014492010138578376,\n        \"min\": -0.11984055240393443,\n        \"max\": 0.09382773976227554,\n        \"num_unique_values\": 1006,\n        \"samples\": [\n          0.0014266227216406246,\n          0.0015841285142366157,\n          -0.007182134089448455\n        ],\n        \"semantic_type\": \"\",\n        \"description\": \"\"\n      }\n    },\n    {\n      \"column\": \"usdcad_close\",\n      \"properties\": {\n        \"dtype\": \"number\",\n        \"std\": 0.04939260716194509,\n        \"min\": 1.2037999629974365,\n        \"max\": 1.4498200416564941,\n        \"num_unique_values\": 980,\n        \"samples\": [\n          1.3799400329589844,\n          1.258620023727417,\n          1.3447799682617188\n        ],\n        \"semantic_type\": \"\",\n        \"description\": \"\"\n      }\n    }\n  ]\n}"
            }
          },
          "metadata": {},
          "execution_count": 68
        }
      ]
    },
    {
      "cell_type": "code",
      "source": [
        "original_corr = np.corrcoef(merged_df[\"SP500_close\"], merged_df[\"usdcad_close\"])[0, 1]\n",
        "\n",
        "rho_target = 0.5\n",
        "\n",
        "sp500_adjusted = merged_df[\"SP500_close\"]\n",
        "usdcad_adjusted = rho_target * merged_df[\"SP500_close\"] + np.sqrt(1 - rho_target**2) * (merged_df[\"usdcad_close\"] - np.mean(merged_df[\"usdcad_close\"])) / np.std(merged_df[\"usdcad_close\"])\n",
        "\n",
        "# Calculate the new correlation\n",
        "new_corr = np.corrcoef(sp500_adjusted, usdcad_adjusted)[0, 1]\n",
        "\n",
        "print(f\"Original Correlation: {original_corr}\")\n",
        "print(f\"New Correlation: {new_corr}\")"
      ],
      "metadata": {
        "colab": {
          "base_uri": "https://localhost:8080/"
        },
        "id": "5iXz37BEXwJf",
        "outputId": "b2ea2ceb-3985-4a63-a7b0-5633da21afbb"
      },
      "execution_count": 69,
      "outputs": [
        {
          "output_type": "stream",
          "name": "stdout",
          "text": [
            "Original Correlation: 0.04759361858074034\n",
            "New Correlation: 0.05593221243023131\n"
          ]
        }
      ]
    },
    {
      "cell_type": "code",
      "source": [
        "std_dev = merged_df['SP500_close'].std()\n",
        "\n",
        "# Assuming 252 trading days in a year\n",
        "annualized_volatility = std_dev * np.sqrt(252)\n",
        "\n",
        "print(f\"Annualized Volatility: {annualized_volatility * 100:.2f}%\")"
      ],
      "metadata": {
        "colab": {
          "base_uri": "https://localhost:8080/"
        },
        "id": "VyH6v-2EZDW6",
        "outputId": "5843e192-de8d-4b0f-c7b4-fc874647d7c4"
      },
      "execution_count": 70,
      "outputs": [
        {
          "output_type": "stream",
          "name": "stdout",
          "text": [
            "Annualized Volatility: 23.01%\n"
          ]
        }
      ]
    },
    {
      "cell_type": "markdown",
      "source": [
        "## Q3"
      ],
      "metadata": {
        "id": "xjhQaP8MaPeD"
      }
    },
    {
      "cell_type": "code",
      "source": [
        "np.random.seed(0)\n",
        "\n",
        "# Define correlation matrix\n",
        "correlation_matrix = np.array([\n",
        "    [1.0, 0.8, 0.6, 0.4],\n",
        "    [0.8, 1.0, 0.7, 0.5],\n",
        "    [0.6, 0.7, 1.0, 0.9],\n",
        "    [0.4, 0.5, 0.9, 1.0]\n",
        "])\n",
        "\n",
        "data = np.random.multivariate_normal(mean=[0, 0, 0, 0], cov=correlation_matrix, size=5000).T\n",
        "\n",
        "# Adjust correlations to desired values\n",
        "desired_correlation_matrix = np.array([\n",
        "    [1.0, 0.5, 0.5, 0.5],\n",
        "    [0.5, 1.0, 0.5, 0.5],\n",
        "    [0.5, 0.5, 1.0, 0.5],\n",
        "    [0.5, 0.5, 0.5, 1.0]\n",
        "])\n",
        "\n",
        "# Perform Cholesky decomposition of the current correlation matrix\n",
        "cholesky_decomposition = np.linalg.cholesky(correlation_matrix)\n",
        "\n",
        "# Scale the decomposition to achieve the desired correlations\n",
        "adjusted_cholesky = cholesky_decomposition @ np.linalg.inv(np.linalg.cholesky(desired_correlation_matrix))\n",
        "\n",
        "adjusted_data = adjusted_cholesky @ data\n",
        "\n",
        "adjusted_data1 = adjusted_data[0]\n",
        "adjusted_data2 = adjusted_data[1]\n",
        "adjusted_data3 = adjusted_data[2]\n",
        "adjusted_data4 = adjusted_data[3]\n",
        "\n",
        "# Calculate the adjusted correlations\n",
        "adjusted_correlation_matrix = np.corrcoef(adjusted_data)\n",
        "print(\"Adjusted Correlation Matrix:\")\n",
        "print(adjusted_correlation_matrix)\n"
      ],
      "metadata": {
        "colab": {
          "base_uri": "https://localhost:8080/"
        },
        "id": "nC3sQ_NVah5L",
        "outputId": "3aa924a6-0086-4514-a970-6be29603caf7"
      },
      "execution_count": null,
      "outputs": [
        {
          "output_type": "stream",
          "name": "stdout",
          "text": [
            "Adjusted Correlation Matrix:\n",
            "[[1.         0.92328455 0.70460917 0.36313474]\n",
            " [0.92328455 1.         0.79361637 0.46023321]\n",
            " [0.70460917 0.79361637 1.         0.89465254]\n",
            " [0.36313474 0.46023321 0.89465254 1.        ]]\n"
          ]
        }
      ]
    },
    {
      "cell_type": "markdown",
      "source": [
        "# Section 3"
      ],
      "metadata": {
        "id": "9gfk4LMknlyl"
      }
    },
    {
      "cell_type": "markdown",
      "source": [
        "## Q5"
      ],
      "metadata": {
        "id": "Rm0bQvZqnqga"
      }
    },
    {
      "cell_type": "markdown",
      "source": [
        "Use piecewise aggregate approximation (PAA) to resample the time series to a common frequency."
      ],
      "metadata": {
        "id": "OHIjEtfxIWuD"
      }
    },
    {
      "cell_type": "code",
      "source": [
        "# Sample time series data\n",
        "time_series1 = {\n",
        "    'Date': ['2019-12-31', '2020-01-02', '2020-01-03', '2020-01-06'],\n",
        "    'Close1': [3230.78, 3257.85, 3234.85, 3246.28]\n",
        "}\n",
        "\n",
        "time_series2 = {\n",
        "    'Date': ['2019-12-31', '2020-01-01', '2020-01-02', '2020-01-03', '2020-01-06'],\n",
        "    'Close': [1.30606, 1.3002, 1.2973, 1.2983, 1.29866]\n",
        "}\n",
        "\n",
        "\n",
        "df1 = pd.DataFrame(time_series1)\n",
        "df2 = pd.DataFrame(time_series2)\n",
        "\n",
        "df1['Date'] = pd.to_datetime(df1['Date'])\n",
        "df2['Date'] = pd.to_datetime(df2['Date'])\n",
        "\n",
        "df1.set_index('Date', inplace=True)\n",
        "df2.set_index('Date', inplace=True)\n",
        "\n",
        "# Resample both time series to daily frequency (filling missing values with NaN)\n",
        "df1_resampled = df1.resample('D').mean()\n",
        "df2_resampled = df2.resample('D').mean()\n",
        "\n",
        "df1_resampled.interpolate(method='linear', inplace=True)\n",
        "df2_resampled.interpolate(method='linear', inplace=True)\n",
        "\n",
        "common_dates = df1_resampled.index.intersection(df2_resampled.index)\n",
        "aligned_df1 = df1_resampled.loc[common_dates]\n",
        "aligned_df2 = df2_resampled.loc[common_dates]\n",
        "\n",
        "print(aligned_df1)\n",
        "print(aligned_df2)\n"
      ],
      "metadata": {
        "colab": {
          "base_uri": "https://localhost:8080/"
        },
        "id": "XbYwMYYrCGsj",
        "outputId": "859dbfc6-4062-4257-e57e-15fb27727aff"
      },
      "execution_count": null,
      "outputs": [
        {
          "output_type": "stream",
          "name": "stdout",
          "text": [
            "              Close1\n",
            "Date                \n",
            "2019-12-31  3230.780\n",
            "2020-01-01  3244.315\n",
            "2020-01-02  3257.850\n",
            "2020-01-03  3234.850\n",
            "2020-01-04  3238.660\n",
            "2020-01-05  3242.470\n",
            "2020-01-06  3246.280\n",
            "              Close\n",
            "Date               \n",
            "2019-12-31  1.30606\n",
            "2020-01-01  1.30020\n",
            "2020-01-02  1.29730\n",
            "2020-01-03  1.29830\n",
            "2020-01-04  1.29842\n",
            "2020-01-05  1.29854\n",
            "2020-01-06  1.29866\n"
          ]
        }
      ]
    },
    {
      "cell_type": "markdown",
      "source": [
        "# Section 4"
      ],
      "metadata": {
        "id": "FQddUkPGo2RM"
      }
    },
    {
      "cell_type": "markdown",
      "source": [
        "## Q8"
      ],
      "metadata": {
        "id": "XPmxLOVCq2sL"
      }
    },
    {
      "cell_type": "code",
      "source": [
        "# Fetching historical data for the assets\n",
        "def fetch_data(ticker):\n",
        "    data = yf.download(tickers=ticker, start=\"2022-01-01\", end = \"2023-01-01\",\n",
        "period='1d')\n",
        "    return data['Adj Close']\n",
        "\n",
        "# Calculate daily returns\n",
        "def calculate_returns(data):\n",
        "    returns = data.pct_change().dropna()\n",
        "    return returns\n",
        "\n",
        "def calculate_VaR(df):\n",
        "    results = {}\n",
        "    for column in df.columns:\n",
        "        sorted_col = df[column].sort_values()\n",
        "        n = int(len(sorted_col) * 0.1)\n",
        "        sum_lowest = sorted_col.iloc[:n].mean()\n",
        "        results[column] = sum_lowest\n",
        "    return results\n",
        "\n",
        "\n",
        "def calculate_contribution_VaR(df):\n",
        "  sorted_df = df.sort_values(by='Sum')\n",
        "\n",
        "  num_rows = int(len(sorted_df) * 0.1)\n",
        "\n",
        "  top_10_percent = sorted_df.iloc[:num_rows]\n",
        "\n",
        "  average_values = top_10_percent.mean()\n",
        "\n",
        "  return average_values\n"
      ],
      "metadata": {
        "id": "vhgcf2yntmFw"
      },
      "execution_count": 48,
      "outputs": []
    },
    {
      "cell_type": "markdown",
      "source": [
        "**Assumptions**:\n",
        "1. I used one year data as an assumption of one-day data to calculate the 1 Day VaR.\n",
        "2. I used daily return as the PnLs for calculation.\n",
        "**Reason**: Yahoo Finance is not available to extract one day with a frequency of 1 minute or 5 minutes of historical date. It can only do the current date. But the data is not enough since we are only at noon. So I just do 1 year data to show my calculation process."
      ],
      "metadata": {
        "id": "ObvRFAEW3VJs"
      }
    },
    {
      "cell_type": "code",
      "source": [
        "# S&P500, S&P/TSX indices, S&P GSCI Index, Gold, US 10Y Treasuries and CA 10Y Treasuries.\n",
        "tickers = ['^GSPC','^GSPTSE','GD=F','GC=F', 'IEF', 'XGB.TO']\n",
        "\n",
        "\n",
        "data = fetch_data(tickers)\n",
        "\n",
        "usdcad_close.index = pd.to_datetime(usdcad_close.index)\n",
        "\n",
        "FX_rate= usdcad_close['2022-01-01':'2023-01-01']\n",
        "\n",
        "FX_rate=FX_rate.to_frame()\n",
        "\n",
        "merge_data=pd.merge(data,FX_rate,on='Date',how='inner')\n",
        "\n",
        "merge_data['GC=F']=merge_data['GC=F']* merge_data['Close']\n",
        "merge_data['GD=F']=merge_data['GD=F']* merge_data['Close']\n",
        "merge_data['IEF']=merge_data['IEF']* merge_data['Close']\n",
        "merge_data['^GSPC']=merge_data['^GSPC']* merge_data['Close']\n",
        "merge_data['^GSPTSE']=merge_data['^GSPTSE']* merge_data['Close']\n",
        "\n",
        "merge_data=merge_data.drop(columns=['Close'])\n",
        "\n",
        "returns = calculate_returns(merge_data)\n",
        "\n",
        "returns['Sum'] = returns.sum(axis=1)\n",
        "\n",
        "#Calculate VaR\n",
        "results_VaR = calculate_VaR(returns)\n",
        "\n",
        "# Calculate Contribution VaR\n",
        "results_contribution=calculate_contribution_VaR(returns)\n",
        "\n",
        "# Caluclate incremental VaR\n",
        "row_differences = returns.diff().iloc[1:]\n",
        "results_incre=calculate_VaR(row_differences)"
      ],
      "metadata": {
        "colab": {
          "base_uri": "https://localhost:8080/"
        },
        "id": "a8YXRk9wq1tL",
        "outputId": "5047db38-528b-41ec-95c7-3ddc20c85a3d"
      },
      "execution_count": 88,
      "outputs": [
        {
          "output_type": "stream",
          "name": "stderr",
          "text": [
            "[*********************100%%**********************]  6 of 6 completed\n"
          ]
        }
      ]
    },
    {
      "cell_type": "code",
      "source": [
        "results_VaR"
      ],
      "metadata": {
        "colab": {
          "base_uri": "https://localhost:8080/"
        },
        "id": "e-hBIJUk9zvh",
        "outputId": "14f3130c-b07e-4d7a-9c18-5d51886e1e4b"
      },
      "execution_count": 89,
      "outputs": [
        {
          "output_type": "execute_result",
          "data": {
            "text/plain": [
              "{'GC=F': -0.016959014719222947,\n",
              " 'GD=F': -0.03647053218296761,\n",
              " 'IEF': -0.013963447166142959,\n",
              " 'XGB.TO': -0.00907006930665195,\n",
              " '^GSPC': -0.028475269772291745,\n",
              " '^GSPTSE': -0.02028779146161965,\n",
              " 'Sum': -0.08371752735035053}"
            ]
          },
          "metadata": {},
          "execution_count": 89
        }
      ]
    },
    {
      "cell_type": "code",
      "source": [
        "results_contribution"
      ],
      "metadata": {
        "colab": {
          "base_uri": "https://localhost:8080/"
        },
        "id": "VNjBBE5iwZIw",
        "outputId": "cf1260f5-6d8d-42f7-cb5a-b7b4699ed827"
      },
      "execution_count": 90,
      "outputs": [
        {
          "output_type": "execute_result",
          "data": {
            "text/plain": [
              "GC=F      -0.010328\n",
              "GD=F      -0.020991\n",
              "IEF       -0.007020\n",
              "XGB.TO    -0.003352\n",
              "^GSPC     -0.023388\n",
              "^GSPTSE   -0.018638\n",
              "Sum       -0.083718\n",
              "dtype: float64"
            ]
          },
          "metadata": {},
          "execution_count": 90
        }
      ]
    },
    {
      "cell_type": "code",
      "source": [
        "results_incre"
      ],
      "metadata": {
        "colab": {
          "base_uri": "https://localhost:8080/"
        },
        "id": "USplepJo-E0-",
        "outputId": "8e57dd5f-ea10-4eee-dc73-cd650e440e9f"
      },
      "execution_count": 91,
      "outputs": [
        {
          "output_type": "execute_result",
          "data": {
            "text/plain": [
              "{'GC=F': -0.028674418901720792,\n",
              " 'GD=F': -0.049792872028071915,\n",
              " 'IEF': -0.021071625698782393,\n",
              " 'XGB.TO': -0.012895782551186815,\n",
              " '^GSPC': -0.04532839539890153,\n",
              " '^GSPTSE': -0.030588606857617724,\n",
              " 'Sum': -0.13114699652814427}"
            ]
          },
          "metadata": {},
          "execution_count": 91
        }
      ]
    }
  ]
}